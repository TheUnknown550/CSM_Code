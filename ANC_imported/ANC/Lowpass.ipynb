{
 "cells": [
  {
   "cell_type": "code",
   "execution_count": null,
   "metadata": {},
   "outputs": [],
   "source": [
    "import numpy as np\n",
    "import scipy.signal as signal\n",
    "import wave\n",
    "import matplotlib.pyplot as plt\n",
    "from scipy.io import wavfile\n",
    "import soundfile as sf"
   ]
  },
  {
   "cell_type": "code",
   "execution_count": null,
   "metadata": {},
   "outputs": [],
   "source": [
    "# Trim Audio\n",
    "def trim_wav( originalWavPath, Name ):\n",
    "    sampleRate, waveData = wavfile.read( originalWavPath )\n",
    "    startSample = int( 0 * sampleRate )\n",
    "    endSample = int( 10 * sampleRate )\n",
    "    wavfile.write(Name, sampleRate, waveData[startSample:endSample])"
   ]
  },
  {
   "cell_type": "code",
   "execution_count": null,
   "metadata": {},
   "outputs": [],
   "source": [
    "# Load the two audio files as NumPy arrays\n",
    "File = 'C:/Users/Matt/Documents/Project/CS-M/Experiments/FilterTests/normal/0dB/(1).wav'\n",
    "trim_wav(File,'File.wav')\n",
    "frames, sample_rate = sf.read('File.wav')\n",
    "\n",
    "TestFile = 'C:/Users/Matt/Documents/Project/CS-M/Experiments/FilterTests/Control/normal/(1).wav'\n",
    "trim_wav(TestFile,'Test.wav')\n",
    "Test, fs2 = sf.read('Test.wav')"
   ]
  },
  {
   "cell_type": "code",
   "execution_count": null,
   "metadata": {},
   "outputs": [],
   "source": [
    "# Low-pass filter\n",
    "cutoff_freq = 200 # set cutoff frequency\n",
    "nyq_freq = 0.5 * sample_rate # Nyquist frequency\n",
    "Wn = cutoff_freq / nyq_freq # filter cutoff frequency\n",
    "b, a = signal.cheby1(4, 5, Wn, btype='low', analog=False)\n",
    "filtered_frames = signal.filtfilt(b, a, frames)"
   ]
  },
  {
   "cell_type": "code",
   "execution_count": null,
   "metadata": {},
   "outputs": [],
   "source": [
    "# Export new WAV file\n",
    "sf.write('File.wav', filtered_frames, sample_rate)"
   ]
  }
 ],
 "metadata": {
  "language_info": {
   "name": "python"
  },
  "orig_nbformat": 4
 },
 "nbformat": 4,
 "nbformat_minor": 2
}
