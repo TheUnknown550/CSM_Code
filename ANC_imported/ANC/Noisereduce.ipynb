{
 "cells": [
  {
   "cell_type": "code",
   "execution_count": 24,
   "metadata": {},
   "outputs": [],
   "source": [
    "import numpy as np\n",
    "import librosa\n",
    "import noisereduce as nr\n",
    "import soundfile as sf"
   ]
  },
  {
   "cell_type": "code",
   "execution_count": 25,
   "metadata": {},
   "outputs": [],
   "source": [
    "# Read in the audio file\n",
    "Original, sample_rate = sf.read('C:/Users/Matt/Documents/Project/CS-M/Experiments/NoiseCancelTests/TestingAudios/Original.wav')\n",
    "Noise, Samplerate = sf.read('C:/Users/Matt/Documents/Project/CS-M/Experiments/NoiseCancelTests/TestingAudios/Noise_clip_2.wav')\n",
    "frames, sampleRate = sf.read('C:/Users/Matt/Documents/Project/CS-M/Experiments/NoiseCancelTests/TestingAudios/MixedSound.wav') "
   ]
  },
  {
   "cell_type": "code",
   "execution_count": 26,
   "metadata": {},
   "outputs": [],
   "source": [
    "# Apply ANC using noisereduce library\n",
    "filtered_frames = nr.reduce_noise(y=Original, y_noise=Noise, sr=sample_rate, time_mask_smooth_ms= 128, prop_decrease=0.9)"
   ]
  },
  {
   "cell_type": "code",
   "execution_count": 27,
   "metadata": {},
   "outputs": [],
   "source": [
    "# Export new WAV file\n",
    "sf.write('C:/Users/Matt/Documents/Project/CS-M/Experiments/NoiseCancelTests/TestingAudios/ANC.wav', filtered_frames, sample_rate)"
   ]
  },
  {
   "cell_type": "code",
   "execution_count": 28,
   "metadata": {},
   "outputs": [
    {
     "data": {
      "text/plain": [
       "'# Calculate the SNR and RMSE values\\nsignal_power = np.sum(Test**2)\\nnoise_power = np.sum((ANC)**2)\\nsnr = 10 * np.log10(signal_power / noise_power)\\nprint(\"SNR: {:.2f} dB\".format(snr))\\nrmse = np.sqrt(np.mean((Test - ANC)**2))\\nprint(\"RMSE: {:.2f}\".format(rmse))'"
      ]
     },
     "execution_count": 28,
     "metadata": {},
     "output_type": "execute_result"
    }
   ],
   "source": [
    "'''# Calculate the SNR and RMSE values\n",
    "signal_power = np.sum(Test**2)\n",
    "noise_power = np.sum((ANC)**2)\n",
    "snr = 10 * np.log10(signal_power / noise_power)\n",
    "print(\"SNR: {:.2f} dB\".format(snr))\n",
    "rmse = np.sqrt(np.mean((Test - ANC)**2))\n",
    "print(\"RMSE: {:.2f}\".format(rmse))'''"
   ]
  }
 ],
 "metadata": {
  "kernelspec": {
   "display_name": "Python 3",
   "language": "python",
   "name": "python3"
  },
  "language_info": {
   "codemirror_mode": {
    "name": "ipython",
    "version": 3
   },
   "file_extension": ".py",
   "mimetype": "text/x-python",
   "name": "python",
   "nbconvert_exporter": "python",
   "pygments_lexer": "ipython3",
   "version": "3.9.13"
  },
  "orig_nbformat": 4
 },
 "nbformat": 4,
 "nbformat_minor": 2
}
