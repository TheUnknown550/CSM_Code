{
 "cells": [
  {
   "cell_type": "code",
   "execution_count": 38,
   "metadata": {},
   "outputs": [],
   "source": [
    "import numpy as np\n",
    "import librosa\n",
    "import librosa.display\n",
    "import matplotlib.pyplot as plt\n",
    "from scipy.io import wavfile\n",
    "import soundfile as sf\n",
    "from scipy.signal import firwin, filtfilt"
   ]
  },
  {
   "cell_type": "code",
   "execution_count": 39,
   "metadata": {},
   "outputs": [],
   "source": [
    "# Trim Audio\n",
    "def trim_wav( originalWavPath, Name ):\n",
    "    sampleRate, waveData = wavfile.read( originalWavPath )\n",
    "    startSample = int( 0 * sampleRate )\n",
    "    endSample = int( 10 * sampleRate )\n",
    "    wavfile.write(Name, sampleRate, waveData[startSample:endSample])"
   ]
  },
  {
   "cell_type": "code",
   "execution_count": 40,
   "metadata": {},
   "outputs": [],
   "source": [
    "# Load the two audio files as NumPy arrays\n",
    "File = 'MixedSound.wav'\n",
    "trim_wav(File,'File.wav')\n",
    "frames, sample_rate = sf.read('File.wav')\n",
    "\n",
    "TestFile = 'C:/Users/Matt/Documents/Project/CS-M/Experiments/FilterTests/Control/normal/(1).wav'\n",
    "trim_wav(TestFile,'Test.wav')\n",
    "Test, fs2 = sf.read('Test.wav')"
   ]
  },
  {
   "cell_type": "code",
   "execution_count": 44,
   "metadata": {},
   "outputs": [],
   "source": [
    "# Band-pass Filter\n",
    "# Define filter parameters\n",
    "fmin = 20  # Lower cutoff frequency\n",
    "fmax = 250  # Upper cutoff frequency\n",
    "\n",
    "# Calculate the filter order\n",
    "nyquist_freq = 0.5 * sample_rate\n",
    "width = 100  # Width of the transition band, in Hz\n",
    "n = int(np.ceil(4 * nyquist_freq / width))\n",
    "\n",
    "# Design the bandpass filter\n",
    "b = firwin(n, [fmin, fmax], pass_zero=False, fs=sample_rate)\n",
    "\n",
    "# Apply the filter to the audio file\n",
    "filtered_frames = filtfilt(b, [1], frames, axis=0)"
   ]
  },
  {
   "cell_type": "code",
   "execution_count": 42,
   "metadata": {},
   "outputs": [],
   "source": [
    "# Export new WAV file\n",
    "sf.write('BandPass.wav', filtered_frames, sample_rate)"
   ]
  }
 ],
 "metadata": {
  "kernelspec": {
   "display_name": "Python 3",
   "language": "python",
   "name": "python3"
  },
  "language_info": {
   "codemirror_mode": {
    "name": "ipython",
    "version": 3
   },
   "file_extension": ".py",
   "mimetype": "text/x-python",
   "name": "python",
   "nbconvert_exporter": "python",
   "pygments_lexer": "ipython3",
   "version": "3.9.13"
  },
  "orig_nbformat": 4
 },
 "nbformat": 4,
 "nbformat_minor": 2
}
